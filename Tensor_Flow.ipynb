{
  "nbformat": 4,
  "nbformat_minor": 0,
  "metadata": {
    "colab": {
      "name": "Tensor Flow.ipynb",
      "provenance": [],
      "include_colab_link": true
    },
    "kernelspec": {
      "name": "python3",
      "display_name": "Python 3"
    }
  },
  "cells": [
    {
      "cell_type": "markdown",
      "metadata": {
        "id": "view-in-github",
        "colab_type": "text"
      },
      "source": [
        "<a href=\"https://colab.research.google.com/github/Deskola/Commercial-Api/blob/master/Tensor_Flow.ipynb\" target=\"_parent\"><img src=\"https://colab.research.google.com/assets/colab-badge.svg\" alt=\"Open In Colab\"/></a>"
      ]
    },
    {
      "cell_type": "code",
      "metadata": {
        "id": "ye_F1_P305kc",
        "colab_type": "code",
        "colab": {}
      },
      "source": [
        "#!pip install tensorflow --upgrade\n"
      ],
      "execution_count": 0,
      "outputs": []
    },
    {
      "cell_type": "code",
      "metadata": {
        "id": "4CUzvtfX1Zvn",
        "colab_type": "code",
        "colab": {}
      },
      "source": [
        ""
      ],
      "execution_count": 0,
      "outputs": []
    },
    {
      "cell_type": "markdown",
      "metadata": {
        "id": "Sa1LiFCO1dyx",
        "colab_type": "text"
      },
      "source": [
        "Tensor flow test"
      ]
    },
    {
      "cell_type": "code",
      "metadata": {
        "id": "twAQqvYx1kH6",
        "colab_type": "code",
        "colab": {}
      },
      "source": [
        "import tensorflow as tf"
      ],
      "execution_count": 0,
      "outputs": []
    },
    {
      "cell_type": "code",
      "metadata": {
        "id": "EY_Pp4-L12xy",
        "colab_type": "code",
        "colab": {}
      },
      "source": [
        "A = tf.constant([1,2,3])"
      ],
      "execution_count": 0,
      "outputs": []
    },
    {
      "cell_type": "code",
      "metadata": {
        "id": "Zd6YOsBd2YQO",
        "colab_type": "code",
        "colab": {
          "base_uri": "https://localhost:8080/",
          "height": 35
        },
        "outputId": "a720d39b-bb6a-4879-f003-fdd730b74218"
      },
      "source": [
        "A\n"
      ],
      "execution_count": 4,
      "outputs": [
        {
          "output_type": "execute_result",
          "data": {
            "text/plain": [
              "<tf.Tensor: id=0, shape=(3,), dtype=int32, numpy=array([1, 2, 3], dtype=int32)>"
            ]
          },
          "metadata": {
            "tags": []
          },
          "execution_count": 4
        }
      ]
    },
    {
      "cell_type": "code",
      "metadata": {
        "id": "1ShVieCT2ZVY",
        "colab_type": "code",
        "colab": {}
      },
      "source": [
        "B = tf.constant([10,10,10])"
      ],
      "execution_count": 0,
      "outputs": []
    },
    {
      "cell_type": "code",
      "metadata": {
        "id": "mKqQoncH2nyA",
        "colab_type": "code",
        "colab": {
          "base_uri": "https://localhost:8080/",
          "height": 35
        },
        "outputId": "25c8a043-1eb3-410d-d564-ce9da0ba8e7f"
      },
      "source": [
        "print(B)"
      ],
      "execution_count": 10,
      "outputs": [
        {
          "output_type": "stream",
          "text": [
            "tf.Tensor([10 10 10], shape=(3,), dtype=int32)\n"
          ],
          "name": "stdout"
        }
      ]
    },
    {
      "cell_type": "code",
      "metadata": {
        "id": "yK-rXBiT3Gv4",
        "colab_type": "code",
        "colab": {}
      },
      "source": [
        "C= A+B\n"
      ],
      "execution_count": 0,
      "outputs": []
    },
    {
      "cell_type": "code",
      "metadata": {
        "id": "Bpiw9orv3n4Z",
        "colab_type": "code",
        "colab": {
          "base_uri": "https://localhost:8080/",
          "height": 35
        },
        "outputId": "e82e61ab-e18d-4d74-8023-ebeaf1705e61"
      },
      "source": [
        "tf.print(C)#Vectorizatiion"
      ],
      "execution_count": 13,
      "outputs": [
        {
          "output_type": "stream",
          "text": [
            "[11 12 13]\n"
          ],
          "name": "stdout"
        }
      ]
    },
    {
      "cell_type": "code",
      "metadata": {
        "id": "yvrWOoCh3rf4",
        "colab_type": "code",
        "colab": {
          "base_uri": "https://localhost:8080/",
          "height": 35
        },
        "outputId": "e7e75297-28ea-4ea3-a508-0a2c11739af9"
      },
      "source": [
        "D = A * B\n",
        "tf.print(D)"
      ],
      "execution_count": 14,
      "outputs": [
        {
          "output_type": "stream",
          "text": [
            "[10 20 30]\n"
          ],
          "name": "stdout"
        }
      ]
    },
    {
      "cell_type": "code",
      "metadata": {
        "id": "NgRGcXnK4EV2",
        "colab_type": "code",
        "colab": {}
      },
      "source": [
        ""
      ],
      "execution_count": 0,
      "outputs": []
    },
    {
      "cell_type": "markdown",
      "metadata": {
        "id": "WK3-Wu984H0B",
        "colab_type": "text"
      },
      "source": [
        "MODEL"
      ]
    },
    {
      "cell_type": "code",
      "metadata": {
        "id": "dl_iJ-lu4KC4",
        "colab_type": "code",
        "colab": {}
      },
      "source": [
        ""
      ],
      "execution_count": 0,
      "outputs": []
    },
    {
      "cell_type": "markdown",
      "metadata": {
        "id": "GSJ-byVK9BE-",
        "colab_type": "text"
      },
      "source": [
        "Importing data"
      ]
    },
    {
      "cell_type": "code",
      "metadata": {
        "id": "V3cHuSVa9Ej1",
        "colab_type": "code",
        "colab": {
          "resources": {
            "http://localhost:8080/nbextensions/google.colab/files.js": {
              "data": "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",
              "ok": true,
              "headers": [
                [
                  "content-type",
                  "application/javascript"
                ]
              ],
              "status": 200,
              "status_text": "OK"
            }
          },
          "base_uri": "https://localhost:8080/",
          "height": 76
        },
        "outputId": "e52578a3-64f2-4ec2-f755-e8cd5e77ee16"
      },
      "source": [
        "from google.colab import files\n",
        "upload = files.upload()"
      ],
      "execution_count": 17,
      "outputs": [
        {
          "output_type": "display_data",
          "data": {
            "text/html": [
              "\n",
              "     <input type=\"file\" id=\"files-a3fec2ff-83ad-4c96-b456-027fc4cc8266\" name=\"files[]\" multiple disabled />\n",
              "     <output id=\"result-a3fec2ff-83ad-4c96-b456-027fc4cc8266\">\n",
              "      Upload widget is only available when the cell has been executed in the\n",
              "      current browser session. Please rerun this cell to enable.\n",
              "      </output>\n",
              "      <script src=\"/nbextensions/google.colab/files.js\"></script> "
            ],
            "text/plain": [
              "<IPython.core.display.HTML object>"
            ]
          },
          "metadata": {
            "tags": []
          }
        },
        {
          "output_type": "stream",
          "text": [
            "Saving Advertising.csv to Advertising.csv\n"
          ],
          "name": "stdout"
        }
      ]
    },
    {
      "cell_type": "code",
      "metadata": {
        "id": "_BdB0BTw9aSo",
        "colab_type": "code",
        "colab": {}
      },
      "source": [
        "import pandas as pd\n"
      ],
      "execution_count": 0,
      "outputs": []
    },
    {
      "cell_type": "code",
      "metadata": {
        "id": "bKUs4pWj-AkD",
        "colab_type": "code",
        "colab": {}
      },
      "source": [
        "data = pd.read_csv(\"Advertising.csv\",index_col=0)"
      ],
      "execution_count": 0,
      "outputs": []
    },
    {
      "cell_type": "code",
      "metadata": {
        "id": "Qb42x1MT-Htb",
        "colab_type": "code",
        "colab": {
          "base_uri": "https://localhost:8080/",
          "height": 206
        },
        "outputId": "f86815c8-cd97-4caa-df27-efd06d71d5e6"
      },
      "source": [
        "data.head()"
      ],
      "execution_count": 23,
      "outputs": [
        {
          "output_type": "execute_result",
          "data": {
            "text/html": [
              "<div>\n",
              "<style scoped>\n",
              "    .dataframe tbody tr th:only-of-type {\n",
              "        vertical-align: middle;\n",
              "    }\n",
              "\n",
              "    .dataframe tbody tr th {\n",
              "        vertical-align: top;\n",
              "    }\n",
              "\n",
              "    .dataframe thead th {\n",
              "        text-align: right;\n",
              "    }\n",
              "</style>\n",
              "<table border=\"1\" class=\"dataframe\">\n",
              "  <thead>\n",
              "    <tr style=\"text-align: right;\">\n",
              "      <th></th>\n",
              "      <th>TV</th>\n",
              "      <th>Radio</th>\n",
              "      <th>Newspaper</th>\n",
              "      <th>Sales</th>\n",
              "    </tr>\n",
              "  </thead>\n",
              "  <tbody>\n",
              "    <tr>\n",
              "      <th>1</th>\n",
              "      <td>230.1</td>\n",
              "      <td>37.8</td>\n",
              "      <td>69.2</td>\n",
              "      <td>22.1</td>\n",
              "    </tr>\n",
              "    <tr>\n",
              "      <th>2</th>\n",
              "      <td>44.5</td>\n",
              "      <td>39.3</td>\n",
              "      <td>45.1</td>\n",
              "      <td>10.4</td>\n",
              "    </tr>\n",
              "    <tr>\n",
              "      <th>3</th>\n",
              "      <td>17.2</td>\n",
              "      <td>45.9</td>\n",
              "      <td>69.3</td>\n",
              "      <td>9.3</td>\n",
              "    </tr>\n",
              "    <tr>\n",
              "      <th>4</th>\n",
              "      <td>151.5</td>\n",
              "      <td>41.3</td>\n",
              "      <td>58.5</td>\n",
              "      <td>18.5</td>\n",
              "    </tr>\n",
              "    <tr>\n",
              "      <th>5</th>\n",
              "      <td>180.8</td>\n",
              "      <td>10.8</td>\n",
              "      <td>58.4</td>\n",
              "      <td>12.9</td>\n",
              "    </tr>\n",
              "  </tbody>\n",
              "</table>\n",
              "</div>"
            ],
            "text/plain": [
              "      TV  Radio  Newspaper  Sales\n",
              "1  230.1   37.8       69.2   22.1\n",
              "2   44.5   39.3       45.1   10.4\n",
              "3   17.2   45.9       69.3    9.3\n",
              "4  151.5   41.3       58.5   18.5\n",
              "5  180.8   10.8       58.4   12.9"
            ]
          },
          "metadata": {
            "tags": []
          },
          "execution_count": 23
        }
      ]
    },
    {
      "cell_type": "code",
      "metadata": {
        "id": "-4z5zoZE-KKb",
        "colab_type": "code",
        "colab": {
          "base_uri": "https://localhost:8080/",
          "height": 35
        },
        "outputId": "837dc8bf-1ce6-4541-c050-70d252b4b52c"
      },
      "source": [
        "data.shape #structure of  data"
      ],
      "execution_count": 25,
      "outputs": [
        {
          "output_type": "execute_result",
          "data": {
            "text/plain": [
              "(200, 4)"
            ]
          },
          "metadata": {
            "tags": []
          },
          "execution_count": 25
        }
      ]
    },
    {
      "cell_type": "code",
      "metadata": {
        "id": "OINo3gse_UWu",
        "colab_type": "code",
        "colab": {}
      },
      "source": [
        ""
      ],
      "execution_count": 0,
      "outputs": []
    },
    {
      "cell_type": "markdown",
      "metadata": {
        "id": "45SyLUN0_btm",
        "colab_type": "text"
      },
      "source": [
        "Splitting data into training and testing set"
      ]
    },
    {
      "cell_type": "code",
      "metadata": {
        "id": "oIuk0Kwh_hi9",
        "colab_type": "code",
        "colab": {}
      },
      "source": [
        "X = data[[\"TV\",\"Radio\",\"Newspaper\"]].values #value convert type from dataframe to array"
      ],
      "execution_count": 0,
      "outputs": []
    },
    {
      "cell_type": "code",
      "metadata": {
        "id": "HXckyUvTAByM",
        "colab_type": "code",
        "colab": {
          "base_uri": "https://localhost:8080/",
          "height": 35
        },
        "outputId": "692cbe69-a4c8-44cd-d18c-dfe71301516e"
      },
      "source": [
        "type(X)"
      ],
      "execution_count": 32,
      "outputs": [
        {
          "output_type": "execute_result",
          "data": {
            "text/plain": [
              "numpy.ndarray"
            ]
          },
          "metadata": {
            "tags": []
          },
          "execution_count": 32
        }
      ]
    },
    {
      "cell_type": "code",
      "metadata": {
        "id": "B5mipvKyAC88",
        "colab_type": "code",
        "colab": {
          "base_uri": "https://localhost:8080/",
          "height": 35
        },
        "outputId": "b9a67c4b-1e5e-4887-ca9c-188e40fe59ef"
      },
      "source": [
        "X.shape"
      ],
      "execution_count": 34,
      "outputs": [
        {
          "output_type": "execute_result",
          "data": {
            "text/plain": [
              "(200, 3)"
            ]
          },
          "metadata": {
            "tags": []
          },
          "execution_count": 34
        }
      ]
    },
    {
      "cell_type": "code",
      "metadata": {
        "id": "hwnVzZrzA1ko",
        "colab_type": "code",
        "colab": {}
      },
      "source": [
        "y = data[[\"Sales\"]].values"
      ],
      "execution_count": 0,
      "outputs": []
    },
    {
      "cell_type": "code",
      "metadata": {
        "id": "Re1VjOrnA6yN",
        "colab_type": "code",
        "colab": {
          "base_uri": "https://localhost:8080/",
          "height": 35
        },
        "outputId": "598ff527-e8e8-4bbe-daaa-dbc1fa508c1c"
      },
      "source": [
        "#type(y)\n",
        "y.shape"
      ],
      "execution_count": 40,
      "outputs": [
        {
          "output_type": "execute_result",
          "data": {
            "text/plain": [
              "(200, 1)"
            ]
          },
          "metadata": {
            "tags": []
          },
          "execution_count": 40
        }
      ]
    },
    {
      "cell_type": "code",
      "metadata": {
        "id": "qftqi5M_BCn0",
        "colab_type": "code",
        "colab": {}
      },
      "source": [
        "from sklearn.model_selection import train_test_split"
      ],
      "execution_count": 0,
      "outputs": []
    },
    {
      "cell_type": "code",
      "metadata": {
        "id": "ukEmdVDjBkoM",
        "colab_type": "code",
        "colab": {}
      },
      "source": [
        "X_train,X_test,y_train,y_test = train_test_split(X,y, test_size=0.3, random_state=42)"
      ],
      "execution_count": 0,
      "outputs": []
    },
    {
      "cell_type": "code",
      "metadata": {
        "id": "t7FEZS3-CfTP",
        "colab_type": "code",
        "colab": {}
      },
      "source": [
        ""
      ],
      "execution_count": 0,
      "outputs": []
    },
    {
      "cell_type": "markdown",
      "metadata": {
        "id": "DSn-k24SCpXl",
        "colab_type": "text"
      },
      "source": [
        "Training the model from our spli values"
      ]
    },
    {
      "cell_type": "code",
      "metadata": {
        "id": "FmW5aJ8bCmdE",
        "colab_type": "code",
        "colab": {}
      },
      "source": [
        "model = tf.keras.models.Sequential([\n",
        "    tf.keras.layers.Dense(4,activation=\"sigmoid\"),\n",
        "    tf.keras.layers.Dense(1)\n",
        "])"
      ],
      "execution_count": 0,
      "outputs": []
    },
    {
      "cell_type": "code",
      "metadata": {
        "id": "OMSLHs0EF2d0",
        "colab_type": "code",
        "colab": {}
      },
      "source": [
        "model.compile(optimizer=\"sgd\",loss=\"mean_squared_error\",metrics=[\"mean_squared_error\"])"
      ],
      "execution_count": 0,
      "outputs": []
    },
    {
      "cell_type": "code",
      "metadata": {
        "id": "LmsvBaVxHRXm",
        "colab_type": "code",
        "colab": {
          "base_uri": "https://localhost:8080/",
          "height": 1000
        },
        "outputId": "4eaf818e-3366-431d-8298-b453979f0008"
      },
      "source": [
        "model.fit(X_train,y_train,epochs=500)"
      ],
      "execution_count": 45,
      "outputs": [
        {
          "output_type": "stream",
          "text": [
            "Train on 140 samples\n",
            "Epoch 1/500\n",
            "140/140 [==============================] - 0s 3ms/sample - loss: 212.5121 - mean_squared_error: 212.5121\n",
            "Epoch 2/500\n",
            "140/140 [==============================] - 0s 93us/sample - loss: 152.5478 - mean_squared_error: 152.5478\n",
            "Epoch 3/500\n",
            "140/140 [==============================] - 0s 81us/sample - loss: 111.5753 - mean_squared_error: 111.5753\n",
            "Epoch 4/500\n",
            "140/140 [==============================] - 0s 82us/sample - loss: 82.8925 - mean_squared_error: 82.8925\n",
            "Epoch 5/500\n",
            "140/140 [==============================] - 0s 76us/sample - loss: 62.7260 - mean_squared_error: 62.7260\n",
            "Epoch 6/500\n",
            "140/140 [==============================] - 0s 78us/sample - loss: 49.5112 - mean_squared_error: 49.5112\n",
            "Epoch 7/500\n",
            "140/140 [==============================] - 0s 97us/sample - loss: 40.5091 - mean_squared_error: 40.5091\n",
            "Epoch 8/500\n",
            "140/140 [==============================] - 0s 66us/sample - loss: 33.7860 - mean_squared_error: 33.7860\n",
            "Epoch 9/500\n",
            "140/140 [==============================] - 0s 64us/sample - loss: 29.2145 - mean_squared_error: 29.2145\n",
            "Epoch 10/500\n",
            "140/140 [==============================] - 0s 77us/sample - loss: 26.1578 - mean_squared_error: 26.1579\n",
            "Epoch 11/500\n",
            "140/140 [==============================] - 0s 80us/sample - loss: 23.5831 - mean_squared_error: 23.5831\n",
            "Epoch 12/500\n",
            "140/140 [==============================] - 0s 80us/sample - loss: 22.0849 - mean_squared_error: 22.0849\n",
            "Epoch 13/500\n",
            "140/140 [==============================] - 0s 85us/sample - loss: 21.0941 - mean_squared_error: 21.0941\n",
            "Epoch 14/500\n",
            "140/140 [==============================] - 0s 88us/sample - loss: 20.2323 - mean_squared_error: 20.2323\n",
            "Epoch 15/500\n",
            "140/140 [==============================] - 0s 89us/sample - loss: 19.6724 - mean_squared_error: 19.6724\n",
            "Epoch 16/500\n",
            "140/140 [==============================] - 0s 96us/sample - loss: 19.3516 - mean_squared_error: 19.3516\n",
            "Epoch 17/500\n",
            "140/140 [==============================] - 0s 93us/sample - loss: 20.6034 - mean_squared_error: 20.6034\n",
            "Epoch 18/500\n",
            "140/140 [==============================] - 0s 71us/sample - loss: 19.4234 - mean_squared_error: 19.4234\n",
            "Epoch 19/500\n",
            "140/140 [==============================] - 0s 80us/sample - loss: 18.8850 - mean_squared_error: 18.8850\n",
            "Epoch 20/500\n",
            "140/140 [==============================] - 0s 109us/sample - loss: 20.8728 - mean_squared_error: 20.8728\n",
            "Epoch 21/500\n",
            "140/140 [==============================] - 0s 113us/sample - loss: 25.5717 - mean_squared_error: 25.5717\n",
            "Epoch 22/500\n",
            "140/140 [==============================] - 0s 75us/sample - loss: 24.9141 - mean_squared_error: 24.9141\n",
            "Epoch 23/500\n",
            "140/140 [==============================] - 0s 90us/sample - loss: 23.6687 - mean_squared_error: 23.6687\n",
            "Epoch 24/500\n",
            "140/140 [==============================] - 0s 88us/sample - loss: 22.4895 - mean_squared_error: 22.4895\n",
            "Epoch 25/500\n",
            "140/140 [==============================] - 0s 83us/sample - loss: 22.4754 - mean_squared_error: 22.4754\n",
            "Epoch 26/500\n",
            "140/140 [==============================] - 0s 78us/sample - loss: 22.3055 - mean_squared_error: 22.3055\n",
            "Epoch 27/500\n",
            "140/140 [==============================] - 0s 79us/sample - loss: 21.9911 - mean_squared_error: 21.9911\n",
            "Epoch 28/500\n",
            "140/140 [==============================] - 0s 88us/sample - loss: 20.4437 - mean_squared_error: 20.4437\n",
            "Epoch 29/500\n",
            "140/140 [==============================] - 0s 92us/sample - loss: 19.2490 - mean_squared_error: 19.2490\n",
            "Epoch 30/500\n",
            "140/140 [==============================] - 0s 92us/sample - loss: 19.3382 - mean_squared_error: 19.3382\n",
            "Epoch 31/500\n",
            "140/140 [==============================] - 0s 87us/sample - loss: 20.1832 - mean_squared_error: 20.1832\n",
            "Epoch 32/500\n",
            "140/140 [==============================] - 0s 107us/sample - loss: 19.3472 - mean_squared_error: 19.3472\n",
            "Epoch 33/500\n",
            "140/140 [==============================] - 0s 113us/sample - loss: 18.4699 - mean_squared_error: 18.4699\n",
            "Epoch 34/500\n",
            "140/140 [==============================] - 0s 78us/sample - loss: 18.3803 - mean_squared_error: 18.3803\n",
            "Epoch 35/500\n",
            "140/140 [==============================] - 0s 108us/sample - loss: 18.9748 - mean_squared_error: 18.9748\n",
            "Epoch 36/500\n",
            "140/140 [==============================] - 0s 81us/sample - loss: 18.9221 - mean_squared_error: 18.9221\n",
            "Epoch 37/500\n",
            "140/140 [==============================] - 0s 88us/sample - loss: 18.8910 - mean_squared_error: 18.8910\n",
            "Epoch 38/500\n",
            "140/140 [==============================] - 0s 87us/sample - loss: 18.7364 - mean_squared_error: 18.7364\n",
            "Epoch 39/500\n",
            "140/140 [==============================] - 0s 90us/sample - loss: 19.1775 - mean_squared_error: 19.1775\n",
            "Epoch 40/500\n",
            "140/140 [==============================] - 0s 88us/sample - loss: 18.9053 - mean_squared_error: 18.9053\n",
            "Epoch 41/500\n",
            "140/140 [==============================] - 0s 86us/sample - loss: 18.9130 - mean_squared_error: 18.9130\n",
            "Epoch 42/500\n",
            "140/140 [==============================] - 0s 84us/sample - loss: 18.9268 - mean_squared_error: 18.9268\n",
            "Epoch 43/500\n",
            "140/140 [==============================] - 0s 106us/sample - loss: 18.8831 - mean_squared_error: 18.8831\n",
            "Epoch 44/500\n",
            "140/140 [==============================] - 0s 93us/sample - loss: 18.8751 - mean_squared_error: 18.8751\n",
            "Epoch 45/500\n",
            "140/140 [==============================] - 0s 83us/sample - loss: 18.8770 - mean_squared_error: 18.8770\n",
            "Epoch 46/500\n",
            "140/140 [==============================] - 0s 103us/sample - loss: 18.8797 - mean_squared_error: 18.8797\n",
            "Epoch 47/500\n",
            "140/140 [==============================] - 0s 78us/sample - loss: 18.8594 - mean_squared_error: 18.8594\n",
            "Epoch 48/500\n",
            "140/140 [==============================] - 0s 85us/sample - loss: 18.8261 - mean_squared_error: 18.8261\n",
            "Epoch 49/500\n",
            "140/140 [==============================] - 0s 89us/sample - loss: 18.5413 - mean_squared_error: 18.5413\n",
            "Epoch 50/500\n",
            "140/140 [==============================] - 0s 76us/sample - loss: 18.9172 - mean_squared_error: 18.9172\n",
            "Epoch 51/500\n",
            "140/140 [==============================] - 0s 93us/sample - loss: 21.3840 - mean_squared_error: 21.3840\n",
            "Epoch 52/500\n",
            "140/140 [==============================] - 0s 88us/sample - loss: 21.1133 - mean_squared_error: 21.1133\n",
            "Epoch 53/500\n",
            "140/140 [==============================] - 0s 80us/sample - loss: 20.4602 - mean_squared_error: 20.4602\n",
            "Epoch 54/500\n",
            "140/140 [==============================] - 0s 74us/sample - loss: 19.4421 - mean_squared_error: 19.4421\n",
            "Epoch 55/500\n",
            "140/140 [==============================] - 0s 82us/sample - loss: 18.7967 - mean_squared_error: 18.7967\n",
            "Epoch 56/500\n",
            "140/140 [==============================] - 0s 89us/sample - loss: 18.7664 - mean_squared_error: 18.7664\n",
            "Epoch 57/500\n",
            "140/140 [==============================] - 0s 104us/sample - loss: 18.7601 - mean_squared_error: 18.7601\n",
            "Epoch 58/500\n",
            "140/140 [==============================] - 0s 96us/sample - loss: 18.7999 - mean_squared_error: 18.7999\n",
            "Epoch 59/500\n",
            "140/140 [==============================] - 0s 90us/sample - loss: 18.7892 - mean_squared_error: 18.7892\n",
            "Epoch 60/500\n",
            "140/140 [==============================] - 0s 96us/sample - loss: 18.7532 - mean_squared_error: 18.7532\n",
            "Epoch 61/500\n",
            "140/140 [==============================] - 0s 89us/sample - loss: 18.7517 - mean_squared_error: 18.7517\n",
            "Epoch 62/500\n",
            "140/140 [==============================] - 0s 82us/sample - loss: 18.7787 - mean_squared_error: 18.7787\n",
            "Epoch 63/500\n",
            "140/140 [==============================] - 0s 90us/sample - loss: 18.7574 - mean_squared_error: 18.7574\n",
            "Epoch 64/500\n",
            "140/140 [==============================] - 0s 93us/sample - loss: 18.7674 - mean_squared_error: 18.7674\n",
            "Epoch 65/500\n",
            "140/140 [==============================] - 0s 83us/sample - loss: 18.7396 - mean_squared_error: 18.7396\n",
            "Epoch 66/500\n",
            "140/140 [==============================] - 0s 92us/sample - loss: 18.7601 - mean_squared_error: 18.7601\n",
            "Epoch 67/500\n",
            "140/140 [==============================] - 0s 81us/sample - loss: 18.7714 - mean_squared_error: 18.7714\n",
            "Epoch 68/500\n",
            "140/140 [==============================] - 0s 82us/sample - loss: 18.7576 - mean_squared_error: 18.7576\n",
            "Epoch 69/500\n",
            "140/140 [==============================] - 0s 82us/sample - loss: 18.7558 - mean_squared_error: 18.7558\n",
            "Epoch 70/500\n",
            "140/140 [==============================] - 0s 82us/sample - loss: 18.7555 - mean_squared_error: 18.7555\n",
            "Epoch 71/500\n",
            "140/140 [==============================] - 0s 113us/sample - loss: 18.7625 - mean_squared_error: 18.7625\n",
            "Epoch 72/500\n",
            "140/140 [==============================] - 0s 93us/sample - loss: 18.7559 - mean_squared_error: 18.7559\n",
            "Epoch 73/500\n",
            "140/140 [==============================] - 0s 101us/sample - loss: 18.7459 - mean_squared_error: 18.7459\n",
            "Epoch 74/500\n",
            "140/140 [==============================] - 0s 85us/sample - loss: 18.7344 - mean_squared_error: 18.7344\n",
            "Epoch 75/500\n",
            "140/140 [==============================] - 0s 74us/sample - loss: 18.7381 - mean_squared_error: 18.7381\n",
            "Epoch 76/500\n",
            "140/140 [==============================] - 0s 86us/sample - loss: 18.7481 - mean_squared_error: 18.7481\n",
            "Epoch 77/500\n",
            "140/140 [==============================] - 0s 76us/sample - loss: 18.7547 - mean_squared_error: 18.7547\n",
            "Epoch 78/500\n",
            "140/140 [==============================] - 0s 75us/sample - loss: 18.7309 - mean_squared_error: 18.7309\n",
            "Epoch 79/500\n",
            "140/140 [==============================] - 0s 87us/sample - loss: 18.7294 - mean_squared_error: 18.7294\n",
            "Epoch 80/500\n",
            "140/140 [==============================] - 0s 85us/sample - loss: 18.7669 - mean_squared_error: 18.7669\n",
            "Epoch 81/500\n",
            "140/140 [==============================] - 0s 88us/sample - loss: 18.7571 - mean_squared_error: 18.7571\n",
            "Epoch 82/500\n",
            "140/140 [==============================] - 0s 76us/sample - loss: 18.7401 - mean_squared_error: 18.7401\n",
            "Epoch 83/500\n",
            "140/140 [==============================] - 0s 91us/sample - loss: 18.7317 - mean_squared_error: 18.7317\n",
            "Epoch 84/500\n",
            "140/140 [==============================] - 0s 91us/sample - loss: 18.7364 - mean_squared_error: 18.7364\n",
            "Epoch 85/500\n",
            "140/140 [==============================] - 0s 124us/sample - loss: 18.7315 - mean_squared_error: 18.7315\n",
            "Epoch 86/500\n",
            "140/140 [==============================] - 0s 87us/sample - loss: 18.7285 - mean_squared_error: 18.7285\n",
            "Epoch 87/500\n",
            "140/140 [==============================] - 0s 80us/sample - loss: 18.7449 - mean_squared_error: 18.7449\n",
            "Epoch 88/500\n",
            "140/140 [==============================] - 0s 92us/sample - loss: 18.7319 - mean_squared_error: 18.7319\n",
            "Epoch 89/500\n",
            "140/140 [==============================] - 0s 73us/sample - loss: 18.7302 - mean_squared_error: 18.7302\n",
            "Epoch 90/500\n",
            "140/140 [==============================] - 0s 83us/sample - loss: 18.7324 - mean_squared_error: 18.7324\n",
            "Epoch 91/500\n",
            "140/140 [==============================] - 0s 92us/sample - loss: 18.7251 - mean_squared_error: 18.7251\n",
            "Epoch 92/500\n",
            "140/140 [==============================] - 0s 95us/sample - loss: 18.7357 - mean_squared_error: 18.7357\n",
            "Epoch 93/500\n",
            "140/140 [==============================] - 0s 88us/sample - loss: 18.7365 - mean_squared_error: 18.7365\n",
            "Epoch 94/500\n",
            "140/140 [==============================] - 0s 99us/sample - loss: 18.7326 - mean_squared_error: 18.7326\n",
            "Epoch 95/500\n",
            "140/140 [==============================] - 0s 98us/sample - loss: 18.7482 - mean_squared_error: 18.7482\n",
            "Epoch 96/500\n",
            "140/140 [==============================] - 0s 84us/sample - loss: 18.7404 - mean_squared_error: 18.7404\n",
            "Epoch 97/500\n",
            "140/140 [==============================] - 0s 91us/sample - loss: 18.7302 - mean_squared_error: 18.7302\n",
            "Epoch 98/500\n",
            "140/140 [==============================] - 0s 94us/sample - loss: 18.7369 - mean_squared_error: 18.7369\n",
            "Epoch 99/500\n",
            "140/140 [==============================] - 0s 81us/sample - loss: 18.7416 - mean_squared_error: 18.7416\n",
            "Epoch 100/500\n",
            "140/140 [==============================] - 0s 76us/sample - loss: 18.7338 - mean_squared_error: 18.7338\n",
            "Epoch 101/500\n",
            "140/140 [==============================] - 0s 78us/sample - loss: 18.7367 - mean_squared_error: 18.7367\n",
            "Epoch 102/500\n",
            "140/140 [==============================] - 0s 79us/sample - loss: 18.7462 - mean_squared_error: 18.7462\n",
            "Epoch 103/500\n",
            "140/140 [==============================] - 0s 78us/sample - loss: 18.7268 - mean_squared_error: 18.7268\n",
            "Epoch 104/500\n",
            "140/140 [==============================] - 0s 97us/sample - loss: 18.7357 - mean_squared_error: 18.7357\n",
            "Epoch 105/500\n",
            "140/140 [==============================] - 0s 83us/sample - loss: 18.7410 - mean_squared_error: 18.7410\n",
            "Epoch 106/500\n",
            "140/140 [==============================] - 0s 70us/sample - loss: 18.7228 - mean_squared_error: 18.7228\n",
            "Epoch 107/500\n",
            "140/140 [==============================] - 0s 85us/sample - loss: 18.7315 - mean_squared_error: 18.7315\n",
            "Epoch 108/500\n",
            "140/140 [==============================] - 0s 87us/sample - loss: 18.7300 - mean_squared_error: 18.7300\n",
            "Epoch 109/500\n",
            "140/140 [==============================] - 0s 111us/sample - loss: 18.7275 - mean_squared_error: 18.7275\n",
            "Epoch 110/500\n",
            "140/140 [==============================] - 0s 90us/sample - loss: 18.7227 - mean_squared_error: 18.7227\n",
            "Epoch 111/500\n",
            "140/140 [==============================] - 0s 86us/sample - loss: 18.7360 - mean_squared_error: 18.7360\n",
            "Epoch 112/500\n",
            "140/140 [==============================] - 0s 111us/sample - loss: 18.7403 - mean_squared_error: 18.7403\n",
            "Epoch 113/500\n",
            "140/140 [==============================] - 0s 90us/sample - loss: 18.7363 - mean_squared_error: 18.7363\n",
            "Epoch 114/500\n",
            "140/140 [==============================] - 0s 88us/sample - loss: 18.7234 - mean_squared_error: 18.7234\n",
            "Epoch 115/500\n",
            "140/140 [==============================] - 0s 78us/sample - loss: 18.7271 - mean_squared_error: 18.7271\n",
            "Epoch 116/500\n",
            "140/140 [==============================] - 0s 94us/sample - loss: 18.7462 - mean_squared_error: 18.7462\n",
            "Epoch 117/500\n",
            "140/140 [==============================] - 0s 81us/sample - loss: 18.7279 - mean_squared_error: 18.7279\n",
            "Epoch 118/500\n",
            "140/140 [==============================] - 0s 84us/sample - loss: 18.7249 - mean_squared_error: 18.7249\n",
            "Epoch 119/500\n",
            "140/140 [==============================] - 0s 83us/sample - loss: 18.7227 - mean_squared_error: 18.7227\n",
            "Epoch 120/500\n",
            "140/140 [==============================] - 0s 84us/sample - loss: 18.7619 - mean_squared_error: 18.7619\n",
            "Epoch 121/500\n",
            "140/140 [==============================] - 0s 79us/sample - loss: 18.7249 - mean_squared_error: 18.7249\n",
            "Epoch 122/500\n",
            "140/140 [==============================] - 0s 112us/sample - loss: 18.7357 - mean_squared_error: 18.7357\n",
            "Epoch 123/500\n",
            "140/140 [==============================] - 0s 109us/sample - loss: 18.7228 - mean_squared_error: 18.7228\n",
            "Epoch 124/500\n",
            "140/140 [==============================] - 0s 100us/sample - loss: 18.7231 - mean_squared_error: 18.7231\n",
            "Epoch 125/500\n",
            "140/140 [==============================] - 0s 98us/sample - loss: 18.7182 - mean_squared_error: 18.7182\n",
            "Epoch 126/500\n",
            "140/140 [==============================] - 0s 117us/sample - loss: 18.7154 - mean_squared_error: 18.7154\n",
            "Epoch 127/500\n",
            "140/140 [==============================] - 0s 102us/sample - loss: 18.7261 - mean_squared_error: 18.7261\n",
            "Epoch 128/500\n",
            "140/140 [==============================] - 0s 80us/sample - loss: 18.7260 - mean_squared_error: 18.7260\n",
            "Epoch 129/500\n",
            "140/140 [==============================] - 0s 91us/sample - loss: 18.7172 - mean_squared_error: 18.7172\n",
            "Epoch 130/500\n",
            "140/140 [==============================] - 0s 87us/sample - loss: 18.7188 - mean_squared_error: 18.7188\n",
            "Epoch 131/500\n",
            "140/140 [==============================] - 0s 91us/sample - loss: 18.7193 - mean_squared_error: 18.7193\n",
            "Epoch 132/500\n",
            "140/140 [==============================] - 0s 78us/sample - loss: 18.7152 - mean_squared_error: 18.7152\n",
            "Epoch 133/500\n",
            "140/140 [==============================] - 0s 77us/sample - loss: 18.7190 - mean_squared_error: 18.7190\n",
            "Epoch 134/500\n",
            "140/140 [==============================] - 0s 76us/sample - loss: 18.7192 - mean_squared_error: 18.7192\n",
            "Epoch 135/500\n",
            "140/140 [==============================] - 0s 75us/sample - loss: 18.7333 - mean_squared_error: 18.7333\n",
            "Epoch 136/500\n",
            "140/140 [==============================] - 0s 73us/sample - loss: 18.7173 - mean_squared_error: 18.7173\n",
            "Epoch 137/500\n",
            "140/140 [==============================] - 0s 87us/sample - loss: 18.7153 - mean_squared_error: 18.7153\n",
            "Epoch 138/500\n",
            "140/140 [==============================] - 0s 92us/sample - loss: 18.7476 - mean_squared_error: 18.7476\n",
            "Epoch 139/500\n",
            "140/140 [==============================] - 0s 75us/sample - loss: 18.7641 - mean_squared_error: 18.7641\n",
            "Epoch 140/500\n",
            "140/140 [==============================] - 0s 77us/sample - loss: 18.7121 - mean_squared_error: 18.7121\n",
            "Epoch 141/500\n",
            "140/140 [==============================] - 0s 88us/sample - loss: 18.7503 - mean_squared_error: 18.7503\n",
            "Epoch 142/500\n",
            "140/140 [==============================] - 0s 118us/sample - loss: 18.7315 - mean_squared_error: 18.7315\n",
            "Epoch 143/500\n",
            "140/140 [==============================] - 0s 80us/sample - loss: 18.7280 - mean_squared_error: 18.7280\n",
            "Epoch 144/500\n",
            "140/140 [==============================] - 0s 103us/sample - loss: 18.7215 - mean_squared_error: 18.7215\n",
            "Epoch 145/500\n",
            "140/140 [==============================] - 0s 87us/sample - loss: 18.7267 - mean_squared_error: 18.7267\n",
            "Epoch 146/500\n",
            "140/140 [==============================] - 0s 87us/sample - loss: 18.7332 - mean_squared_error: 18.7332\n",
            "Epoch 147/500\n",
            "140/140 [==============================] - 0s 79us/sample - loss: 18.7310 - mean_squared_error: 18.7310\n",
            "Epoch 148/500\n",
            "140/140 [==============================] - 0s 93us/sample - loss: 18.7329 - mean_squared_error: 18.7329\n",
            "Epoch 149/500\n",
            "140/140 [==============================] - 0s 75us/sample - loss: 18.7239 - mean_squared_error: 18.7239\n",
            "Epoch 150/500\n",
            "140/140 [==============================] - 0s 87us/sample - loss: 18.7272 - mean_squared_error: 18.7272\n",
            "Epoch 151/500\n",
            "140/140 [==============================] - 0s 94us/sample - loss: 18.7219 - mean_squared_error: 18.7219\n",
            "Epoch 152/500\n",
            "140/140 [==============================] - 0s 94us/sample - loss: 18.7147 - mean_squared_error: 18.7147\n",
            "Epoch 153/500\n",
            "140/140 [==============================] - 0s 98us/sample - loss: 18.7181 - mean_squared_error: 18.7181\n",
            "Epoch 154/500\n",
            "140/140 [==============================] - 0s 109us/sample - loss: 18.7469 - mean_squared_error: 18.7469\n",
            "Epoch 155/500\n",
            "140/140 [==============================] - 0s 107us/sample - loss: 18.7197 - mean_squared_error: 18.7197\n",
            "Epoch 156/500\n",
            "140/140 [==============================] - 0s 83us/sample - loss: 18.7136 - mean_squared_error: 18.7136\n",
            "Epoch 157/500\n",
            "140/140 [==============================] - 0s 102us/sample - loss: 18.7133 - mean_squared_error: 18.7133\n",
            "Epoch 158/500\n",
            "140/140 [==============================] - 0s 80us/sample - loss: 18.7184 - mean_squared_error: 18.7184\n",
            "Epoch 159/500\n",
            "140/140 [==============================] - 0s 113us/sample - loss: 18.7210 - mean_squared_error: 18.7210\n",
            "Epoch 160/500\n",
            "140/140 [==============================] - 0s 76us/sample - loss: 18.7308 - mean_squared_error: 18.7308\n",
            "Epoch 161/500\n",
            "140/140 [==============================] - 0s 81us/sample - loss: 18.7269 - mean_squared_error: 18.7269\n",
            "Epoch 162/500\n",
            "140/140 [==============================] - 0s 90us/sample - loss: 18.7226 - mean_squared_error: 18.7226\n",
            "Epoch 163/500\n",
            "140/140 [==============================] - 0s 83us/sample - loss: 18.7216 - mean_squared_error: 18.7216\n",
            "Epoch 164/500\n",
            "140/140 [==============================] - 0s 80us/sample - loss: 18.7280 - mean_squared_error: 18.7280\n",
            "Epoch 165/500\n",
            "140/140 [==============================] - 0s 91us/sample - loss: 18.7233 - mean_squared_error: 18.7233\n",
            "Epoch 166/500\n",
            "140/140 [==============================] - 0s 87us/sample - loss: 18.7105 - mean_squared_error: 18.7105\n",
            "Epoch 167/500\n",
            "140/140 [==============================] - 0s 91us/sample - loss: 18.7299 - mean_squared_error: 18.7299\n",
            "Epoch 168/500\n",
            "140/140 [==============================] - 0s 91us/sample - loss: 18.7133 - mean_squared_error: 18.7133\n",
            "Epoch 169/500\n",
            "140/140 [==============================] - 0s 86us/sample - loss: 18.7260 - mean_squared_error: 18.7260\n",
            "Epoch 170/500\n",
            "140/140 [==============================] - 0s 74us/sample - loss: 18.7439 - mean_squared_error: 18.7439\n",
            "Epoch 171/500\n",
            "140/140 [==============================] - 0s 72us/sample - loss: 18.7089 - mean_squared_error: 18.7089\n",
            "Epoch 172/500\n",
            "140/140 [==============================] - 0s 73us/sample - loss: 18.7230 - mean_squared_error: 18.7230\n",
            "Epoch 173/500\n",
            "140/140 [==============================] - 0s 76us/sample - loss: 18.7083 - mean_squared_error: 18.7083\n",
            "Epoch 174/500\n",
            "140/140 [==============================] - 0s 95us/sample - loss: 18.7143 - mean_squared_error: 18.7143\n",
            "Epoch 175/500\n",
            "140/140 [==============================] - 0s 109us/sample - loss: 18.7064 - mean_squared_error: 18.7064\n",
            "Epoch 176/500\n",
            "140/140 [==============================] - 0s 86us/sample - loss: 18.7212 - mean_squared_error: 18.7212\n",
            "Epoch 177/500\n",
            "140/140 [==============================] - 0s 97us/sample - loss: 18.7180 - mean_squared_error: 18.7180\n",
            "Epoch 178/500\n",
            "140/140 [==============================] - 0s 90us/sample - loss: 18.7162 - mean_squared_error: 18.7162\n",
            "Epoch 179/500\n",
            "140/140 [==============================] - 0s 87us/sample - loss: 18.7243 - mean_squared_error: 18.7243\n",
            "Epoch 180/500\n",
            "140/140 [==============================] - 0s 94us/sample - loss: 18.7114 - mean_squared_error: 18.7114\n",
            "Epoch 181/500\n",
            "140/140 [==============================] - 0s 94us/sample - loss: 18.7096 - mean_squared_error: 18.7096\n",
            "Epoch 182/500\n",
            "140/140 [==============================] - 0s 98us/sample - loss: 18.7169 - mean_squared_error: 18.7169\n",
            "Epoch 183/500\n",
            "140/140 [==============================] - 0s 85us/sample - loss: 18.7133 - mean_squared_error: 18.7133\n",
            "Epoch 184/500\n",
            "140/140 [==============================] - 0s 87us/sample - loss: 18.7469 - mean_squared_error: 18.7469\n",
            "Epoch 185/500\n",
            "140/140 [==============================] - 0s 84us/sample - loss: 18.7051 - mean_squared_error: 18.7051\n",
            "Epoch 186/500\n",
            "140/140 [==============================] - 0s 85us/sample - loss: 18.7212 - mean_squared_error: 18.7212\n",
            "Epoch 187/500\n",
            "140/140 [==============================] - 0s 96us/sample - loss: 18.7227 - mean_squared_error: 18.7227\n",
            "Epoch 188/500\n",
            "140/140 [==============================] - 0s 93us/sample - loss: 18.7598 - mean_squared_error: 18.7598\n",
            "Epoch 189/500\n",
            "140/140 [==============================] - 0s 106us/sample - loss: 18.7054 - mean_squared_error: 18.7054\n",
            "Epoch 190/500\n",
            "140/140 [==============================] - 0s 102us/sample - loss: 18.7469 - mean_squared_error: 18.7469\n",
            "Epoch 191/500\n",
            "140/140 [==============================] - 0s 94us/sample - loss: 18.7250 - mean_squared_error: 18.7250\n",
            "Epoch 192/500\n",
            "140/140 [==============================] - 0s 109us/sample - loss: 18.7255 - mean_squared_error: 18.7255\n",
            "Epoch 193/500\n",
            "140/140 [==============================] - 0s 83us/sample - loss: 18.7234 - mean_squared_error: 18.7234\n",
            "Epoch 194/500\n",
            "140/140 [==============================] - 0s 110us/sample - loss: 18.7065 - mean_squared_error: 18.7065\n",
            "Epoch 195/500\n",
            "140/140 [==============================] - 0s 74us/sample - loss: 18.7490 - mean_squared_error: 18.7490\n",
            "Epoch 196/500\n",
            "140/140 [==============================] - 0s 86us/sample - loss: 18.7167 - mean_squared_error: 18.7167\n",
            "Epoch 197/500\n",
            "140/140 [==============================] - 0s 81us/sample - loss: 18.7147 - mean_squared_error: 18.7147\n",
            "Epoch 198/500\n",
            "140/140 [==============================] - 0s 98us/sample - loss: 18.7350 - mean_squared_error: 18.7350\n",
            "Epoch 199/500\n",
            "140/140 [==============================] - 0s 75us/sample - loss: 18.7299 - mean_squared_error: 18.7299\n",
            "Epoch 200/500\n",
            "140/140 [==============================] - 0s 83us/sample - loss: 18.7136 - mean_squared_error: 18.7136\n",
            "Epoch 201/500\n",
            "140/140 [==============================] - 0s 87us/sample - loss: 18.7121 - mean_squared_error: 18.7121\n",
            "Epoch 202/500\n",
            "140/140 [==============================] - 0s 87us/sample - loss: 18.7290 - mean_squared_error: 18.7290\n",
            "Epoch 203/500\n",
            "140/140 [==============================] - 0s 93us/sample - loss: 18.7483 - mean_squared_error: 18.7483\n",
            "Epoch 204/500\n",
            "140/140 [==============================] - 0s 97us/sample - loss: 18.7210 - mean_squared_error: 18.7210\n",
            "Epoch 205/500\n",
            "140/140 [==============================] - 0s 95us/sample - loss: 18.7124 - mean_squared_error: 18.7124\n",
            "Epoch 206/500\n",
            "140/140 [==============================] - 0s 123us/sample - loss: 18.7060 - mean_squared_error: 18.7060\n",
            "Epoch 207/500\n",
            "140/140 [==============================] - 0s 78us/sample - loss: 18.7172 - mean_squared_error: 18.7172\n",
            "Epoch 208/500\n",
            "140/140 [==============================] - 0s 78us/sample - loss: 18.7201 - mean_squared_error: 18.7201\n",
            "Epoch 209/500\n",
            "140/140 [==============================] - 0s 119us/sample - loss: 18.7226 - mean_squared_error: 18.7226\n",
            "Epoch 210/500\n",
            "140/140 [==============================] - 0s 79us/sample - loss: 18.7069 - mean_squared_error: 18.7069\n",
            "Epoch 211/500\n",
            "140/140 [==============================] - 0s 77us/sample - loss: 18.7303 - mean_squared_error: 18.7303\n",
            "Epoch 212/500\n",
            "140/140 [==============================] - 0s 101us/sample - loss: 18.6975 - mean_squared_error: 18.6975\n",
            "Epoch 213/500\n",
            "140/140 [==============================] - 0s 81us/sample - loss: 18.7025 - mean_squared_error: 18.7025\n",
            "Epoch 214/500\n",
            "140/140 [==============================] - 0s 87us/sample - loss: 18.7497 - mean_squared_error: 18.7497\n",
            "Epoch 215/500\n",
            "140/140 [==============================] - 0s 91us/sample - loss: 18.7042 - mean_squared_error: 18.7042\n",
            "Epoch 216/500\n",
            "140/140 [==============================] - 0s 84us/sample - loss: 18.7157 - mean_squared_error: 18.7157\n",
            "Epoch 217/500\n",
            "140/140 [==============================] - 0s 95us/sample - loss: 18.7053 - mean_squared_error: 18.7053\n",
            "Epoch 218/500\n",
            "140/140 [==============================] - 0s 81us/sample - loss: 18.7330 - mean_squared_error: 18.7330\n",
            "Epoch 219/500\n",
            "140/140 [==============================] - 0s 92us/sample - loss: 18.7098 - mean_squared_error: 18.7098\n",
            "Epoch 220/500\n",
            "140/140 [==============================] - 0s 94us/sample - loss: 18.7055 - mean_squared_error: 18.7055\n",
            "Epoch 221/500\n",
            "140/140 [==============================] - 0s 127us/sample - loss: 18.7072 - mean_squared_error: 18.7072\n",
            "Epoch 222/500\n",
            "140/140 [==============================] - 0s 83us/sample - loss: 18.7399 - mean_squared_error: 18.7399\n",
            "Epoch 223/500\n",
            "140/140 [==============================] - 0s 99us/sample - loss: 18.7009 - mean_squared_error: 18.7009\n",
            "Epoch 224/500\n",
            "140/140 [==============================] - 0s 86us/sample - loss: 18.7245 - mean_squared_error: 18.7245\n",
            "Epoch 225/500\n",
            "140/140 [==============================] - 0s 80us/sample - loss: 18.7118 - mean_squared_error: 18.7118\n",
            "Epoch 226/500\n",
            "140/140 [==============================] - 0s 83us/sample - loss: 18.7166 - mean_squared_error: 18.7166\n",
            "Epoch 227/500\n",
            "140/140 [==============================] - 0s 86us/sample - loss: 18.7287 - mean_squared_error: 18.7287\n",
            "Epoch 228/500\n",
            "140/140 [==============================] - 0s 116us/sample - loss: 18.7181 - mean_squared_error: 18.7181\n",
            "Epoch 229/500\n",
            "140/140 [==============================] - 0s 94us/sample - loss: 18.7018 - mean_squared_error: 18.7018\n",
            "Epoch 230/500\n",
            "140/140 [==============================] - 0s 92us/sample - loss: 18.7214 - mean_squared_error: 18.7214\n",
            "Epoch 231/500\n",
            "140/140 [==============================] - 0s 87us/sample - loss: 18.7280 - mean_squared_error: 18.7280\n",
            "Epoch 232/500\n",
            "140/140 [==============================] - 0s 105us/sample - loss: 18.7363 - mean_squared_error: 18.7363\n",
            "Epoch 233/500\n",
            "140/140 [==============================] - 0s 88us/sample - loss: 18.7363 - mean_squared_error: 18.7363\n",
            "Epoch 234/500\n",
            "140/140 [==============================] - 0s 90us/sample - loss: 18.7138 - mean_squared_error: 18.7138\n",
            "Epoch 235/500\n",
            "140/140 [==============================] - 0s 71us/sample - loss: 18.7097 - mean_squared_error: 18.7097\n",
            "Epoch 236/500\n",
            "140/140 [==============================] - 0s 82us/sample - loss: 18.7013 - mean_squared_error: 18.7013\n",
            "Epoch 237/500\n",
            "140/140 [==============================] - 0s 100us/sample - loss: 18.7084 - mean_squared_error: 18.7084\n",
            "Epoch 238/500\n",
            "140/140 [==============================] - 0s 87us/sample - loss: 18.7238 - mean_squared_error: 18.7238\n",
            "Epoch 239/500\n",
            "140/140 [==============================] - 0s 99us/sample - loss: 18.7002 - mean_squared_error: 18.7002\n",
            "Epoch 240/500\n",
            "140/140 [==============================] - 0s 116us/sample - loss: 18.7021 - mean_squared_error: 18.7021\n",
            "Epoch 241/500\n",
            "140/140 [==============================] - 0s 103us/sample - loss: 18.6996 - mean_squared_error: 18.6996\n",
            "Epoch 242/500\n",
            "140/140 [==============================] - 0s 100us/sample - loss: 18.7042 - mean_squared_error: 18.7042\n",
            "Epoch 243/500\n",
            "140/140 [==============================] - 0s 103us/sample - loss: 18.7023 - mean_squared_error: 18.7023\n",
            "Epoch 244/500\n",
            "140/140 [==============================] - 0s 86us/sample - loss: 18.7018 - mean_squared_error: 18.7018\n",
            "Epoch 245/500\n",
            "140/140 [==============================] - 0s 68us/sample - loss: 18.7149 - mean_squared_error: 18.7149\n",
            "Epoch 246/500\n",
            "140/140 [==============================] - 0s 92us/sample - loss: 18.7012 - mean_squared_error: 18.7012\n",
            "Epoch 247/500\n",
            "140/140 [==============================] - 0s 94us/sample - loss: 18.7139 - mean_squared_error: 18.7139\n",
            "Epoch 248/500\n",
            "140/140 [==============================] - 0s 73us/sample - loss: 18.7058 - mean_squared_error: 18.7058\n",
            "Epoch 249/500\n",
            "140/140 [==============================] - 0s 92us/sample - loss: 18.7400 - mean_squared_error: 18.7400\n",
            "Epoch 250/500\n",
            "140/140 [==============================] - 0s 100us/sample - loss: 18.7040 - mean_squared_error: 18.7040\n",
            "Epoch 251/500\n",
            "140/140 [==============================] - 0s 70us/sample - loss: 18.7036 - mean_squared_error: 18.7036\n",
            "Epoch 252/500\n",
            "140/140 [==============================] - 0s 72us/sample - loss: 18.7152 - mean_squared_error: 18.7152\n",
            "Epoch 253/500\n",
            "140/140 [==============================] - 0s 70us/sample - loss: 18.7161 - mean_squared_error: 18.7161\n",
            "Epoch 254/500\n",
            "140/140 [==============================] - 0s 70us/sample - loss: 18.7083 - mean_squared_error: 18.7083\n",
            "Epoch 255/500\n",
            "140/140 [==============================] - 0s 87us/sample - loss: 18.7200 - mean_squared_error: 18.7200\n",
            "Epoch 256/500\n",
            "140/140 [==============================] - 0s 78us/sample - loss: 18.7131 - mean_squared_error: 18.7131\n",
            "Epoch 257/500\n",
            "140/140 [==============================] - 0s 105us/sample - loss: 18.6993 - mean_squared_error: 18.6993\n",
            "Epoch 258/500\n",
            "140/140 [==============================] - 0s 85us/sample - loss: 18.7322 - mean_squared_error: 18.7322\n",
            "Epoch 259/500\n",
            "140/140 [==============================] - 0s 94us/sample - loss: 18.7258 - mean_squared_error: 18.7258\n",
            "Epoch 260/500\n",
            "140/140 [==============================] - 0s 90us/sample - loss: 18.7331 - mean_squared_error: 18.7331\n",
            "Epoch 261/500\n",
            "140/140 [==============================] - 0s 78us/sample - loss: 18.7099 - mean_squared_error: 18.7099\n",
            "Epoch 262/500\n",
            "140/140 [==============================] - 0s 104us/sample - loss: 18.7074 - mean_squared_error: 18.7074\n",
            "Epoch 263/500\n",
            "140/140 [==============================] - 0s 91us/sample - loss: 18.7390 - mean_squared_error: 18.7390\n",
            "Epoch 264/500\n",
            "140/140 [==============================] - 0s 108us/sample - loss: 18.7136 - mean_squared_error: 18.7136\n",
            "Epoch 265/500\n",
            "140/140 [==============================] - 0s 89us/sample - loss: 18.7004 - mean_squared_error: 18.7004\n",
            "Epoch 266/500\n",
            "140/140 [==============================] - 0s 87us/sample - loss: 18.7055 - mean_squared_error: 18.7055\n",
            "Epoch 267/500\n",
            "140/140 [==============================] - 0s 87us/sample - loss: 18.7154 - mean_squared_error: 18.7154\n",
            "Epoch 268/500\n",
            "140/140 [==============================] - 0s 86us/sample - loss: 18.7051 - mean_squared_error: 18.7051\n",
            "Epoch 269/500\n",
            "140/140 [==============================] - 0s 97us/sample - loss: 18.7020 - mean_squared_error: 18.7020\n",
            "Epoch 270/500\n",
            "140/140 [==============================] - 0s 85us/sample - loss: 18.6994 - mean_squared_error: 18.6994\n",
            "Epoch 271/500\n",
            "140/140 [==============================] - 0s 109us/sample - loss: 18.7024 - mean_squared_error: 18.7024\n",
            "Epoch 272/500\n",
            "140/140 [==============================] - 0s 80us/sample - loss: 18.7177 - mean_squared_error: 18.7177\n",
            "Epoch 273/500\n",
            "140/140 [==============================] - 0s 87us/sample - loss: 18.6971 - mean_squared_error: 18.6971\n",
            "Epoch 274/500\n",
            "140/140 [==============================] - 0s 92us/sample - loss: 18.7129 - mean_squared_error: 18.7129\n",
            "Epoch 275/500\n",
            "140/140 [==============================] - 0s 81us/sample - loss: 18.7263 - mean_squared_error: 18.7263\n",
            "Epoch 276/500\n",
            "140/140 [==============================] - 0s 98us/sample - loss: 18.7143 - mean_squared_error: 18.7143\n",
            "Epoch 277/500\n",
            "140/140 [==============================] - 0s 90us/sample - loss: 18.7194 - mean_squared_error: 18.7194\n",
            "Epoch 278/500\n",
            "140/140 [==============================] - 0s 98us/sample - loss: 18.7093 - mean_squared_error: 18.7093\n",
            "Epoch 279/500\n",
            "140/140 [==============================] - 0s 98us/sample - loss: 18.7064 - mean_squared_error: 18.7064\n",
            "Epoch 280/500\n",
            "140/140 [==============================] - 0s 89us/sample - loss: 18.7032 - mean_squared_error: 18.7032\n",
            "Epoch 281/500\n",
            "140/140 [==============================] - 0s 78us/sample - loss: 18.7068 - mean_squared_error: 18.7068\n",
            "Epoch 282/500\n",
            "140/140 [==============================] - 0s 90us/sample - loss: 18.7120 - mean_squared_error: 18.7120\n",
            "Epoch 283/500\n",
            "140/140 [==============================] - 0s 86us/sample - loss: 18.7251 - mean_squared_error: 18.7251\n",
            "Epoch 284/500\n",
            "140/140 [==============================] - 0s 90us/sample - loss: 18.6952 - mean_squared_error: 18.6952\n",
            "Epoch 285/500\n",
            "140/140 [==============================] - 0s 99us/sample - loss: 18.7027 - mean_squared_error: 18.7027\n",
            "Epoch 286/500\n",
            "140/140 [==============================] - 0s 88us/sample - loss: 18.7041 - mean_squared_error: 18.7041\n",
            "Epoch 287/500\n",
            "140/140 [==============================] - 0s 83us/sample - loss: 18.7890 - mean_squared_error: 18.7890\n",
            "Epoch 288/500\n",
            "140/140 [==============================] - 0s 84us/sample - loss: 18.6961 - mean_squared_error: 18.6961\n",
            "Epoch 289/500\n",
            "140/140 [==============================] - 0s 73us/sample - loss: 18.7022 - mean_squared_error: 18.7022\n",
            "Epoch 290/500\n",
            "140/140 [==============================] - 0s 75us/sample - loss: 18.6995 - mean_squared_error: 18.6995\n",
            "Epoch 291/500\n",
            "140/140 [==============================] - 0s 77us/sample - loss: 18.6977 - mean_squared_error: 18.6977\n",
            "Epoch 292/500\n",
            "140/140 [==============================] - 0s 91us/sample - loss: 18.6992 - mean_squared_error: 18.6992\n",
            "Epoch 293/500\n",
            "140/140 [==============================] - 0s 96us/sample - loss: 18.7033 - mean_squared_error: 18.7033\n",
            "Epoch 294/500\n",
            "140/140 [==============================] - 0s 105us/sample - loss: 18.7238 - mean_squared_error: 18.7238\n",
            "Epoch 295/500\n",
            "140/140 [==============================] - 0s 96us/sample - loss: 18.6997 - mean_squared_error: 18.6997\n",
            "Epoch 296/500\n",
            "140/140 [==============================] - 0s 93us/sample - loss: 18.7123 - mean_squared_error: 18.7123\n",
            "Epoch 297/500\n",
            "140/140 [==============================] - 0s 101us/sample - loss: 18.7248 - mean_squared_error: 18.7248\n",
            "Epoch 298/500\n",
            "140/140 [==============================] - 0s 82us/sample - loss: 18.7255 - mean_squared_error: 18.7255\n",
            "Epoch 299/500\n",
            "140/140 [==============================] - 0s 84us/sample - loss: 18.7090 - mean_squared_error: 18.7090\n",
            "Epoch 300/500\n",
            "140/140 [==============================] - 0s 76us/sample - loss: 18.7010 - mean_squared_error: 18.7010\n",
            "Epoch 301/500\n",
            "140/140 [==============================] - 0s 84us/sample - loss: 18.7173 - mean_squared_error: 18.7173\n",
            "Epoch 302/500\n",
            "140/140 [==============================] - 0s 85us/sample - loss: 18.7004 - mean_squared_error: 18.7004\n",
            "Epoch 303/500\n",
            "140/140 [==============================] - 0s 83us/sample - loss: 18.7133 - mean_squared_error: 18.7133\n",
            "Epoch 304/500\n",
            "140/140 [==============================] - 0s 72us/sample - loss: 18.7149 - mean_squared_error: 18.7149\n",
            "Epoch 305/500\n",
            "140/140 [==============================] - 0s 80us/sample - loss: 18.7232 - mean_squared_error: 18.7232\n",
            "Epoch 306/500\n",
            "140/140 [==============================] - 0s 77us/sample - loss: 18.6996 - mean_squared_error: 18.6996\n",
            "Epoch 307/500\n",
            "140/140 [==============================] - 0s 80us/sample - loss: 18.7146 - mean_squared_error: 18.7146\n",
            "Epoch 308/500\n",
            "140/140 [==============================] - 0s 89us/sample - loss: 18.7232 - mean_squared_error: 18.7232\n",
            "Epoch 309/500\n",
            "140/140 [==============================] - 0s 78us/sample - loss: 18.7190 - mean_squared_error: 18.7190\n",
            "Epoch 310/500\n",
            "140/140 [==============================] - 0s 104us/sample - loss: 18.7058 - mean_squared_error: 18.7058\n",
            "Epoch 311/500\n",
            "140/140 [==============================] - 0s 84us/sample - loss: 18.7097 - mean_squared_error: 18.7097\n",
            "Epoch 312/500\n",
            "140/140 [==============================] - 0s 103us/sample - loss: 18.7046 - mean_squared_error: 18.7046\n",
            "Epoch 313/500\n",
            "140/140 [==============================] - 0s 84us/sample - loss: 18.7375 - mean_squared_error: 18.7375\n",
            "Epoch 314/500\n",
            "140/140 [==============================] - 0s 88us/sample - loss: 18.7081 - mean_squared_error: 18.7081\n",
            "Epoch 315/500\n",
            "140/140 [==============================] - 0s 79us/sample - loss: 18.7010 - mean_squared_error: 18.7010\n",
            "Epoch 316/500\n",
            "140/140 [==============================] - 0s 89us/sample - loss: 18.6945 - mean_squared_error: 18.6945\n",
            "Epoch 317/500\n",
            "140/140 [==============================] - 0s 98us/sample - loss: 18.6923 - mean_squared_error: 18.6923\n",
            "Epoch 318/500\n",
            "140/140 [==============================] - 0s 97us/sample - loss: 18.7136 - mean_squared_error: 18.7136\n",
            "Epoch 319/500\n",
            "140/140 [==============================] - 0s 86us/sample - loss: 18.7045 - mean_squared_error: 18.7045\n",
            "Epoch 320/500\n",
            "140/140 [==============================] - 0s 81us/sample - loss: 18.7003 - mean_squared_error: 18.7003\n",
            "Epoch 321/500\n",
            "140/140 [==============================] - 0s 78us/sample - loss: 18.7076 - mean_squared_error: 18.7076\n",
            "Epoch 322/500\n",
            "140/140 [==============================] - 0s 76us/sample - loss: 18.7037 - mean_squared_error: 18.7037\n",
            "Epoch 323/500\n",
            "140/140 [==============================] - 0s 74us/sample - loss: 18.7022 - mean_squared_error: 18.7022\n",
            "Epoch 324/500\n",
            "140/140 [==============================] - 0s 76us/sample - loss: 18.7342 - mean_squared_error: 18.7342\n",
            "Epoch 325/500\n",
            "140/140 [==============================] - 0s 90us/sample - loss: 18.7433 - mean_squared_error: 18.7433\n",
            "Epoch 326/500\n",
            "140/140 [==============================] - 0s 91us/sample - loss: 18.7081 - mean_squared_error: 18.7082\n",
            "Epoch 327/500\n",
            "140/140 [==============================] - 0s 97us/sample - loss: 18.7110 - mean_squared_error: 18.7110\n",
            "Epoch 328/500\n",
            "140/140 [==============================] - 0s 111us/sample - loss: 18.7405 - mean_squared_error: 18.7405\n",
            "Epoch 329/500\n",
            "140/140 [==============================] - 0s 84us/sample - loss: 18.7052 - mean_squared_error: 18.7052\n",
            "Epoch 330/500\n",
            "140/140 [==============================] - 0s 77us/sample - loss: 18.7356 - mean_squared_error: 18.7356\n",
            "Epoch 331/500\n",
            "140/140 [==============================] - 0s 92us/sample - loss: 18.6960 - mean_squared_error: 18.6960\n",
            "Epoch 332/500\n",
            "140/140 [==============================] - 0s 76us/sample - loss: 18.7119 - mean_squared_error: 18.7119\n",
            "Epoch 333/500\n",
            "140/140 [==============================] - 0s 83us/sample - loss: 18.7259 - mean_squared_error: 18.7259\n",
            "Epoch 334/500\n",
            "140/140 [==============================] - 0s 78us/sample - loss: 18.6987 - mean_squared_error: 18.6987\n",
            "Epoch 335/500\n",
            "140/140 [==============================] - 0s 86us/sample - loss: 18.6936 - mean_squared_error: 18.6936\n",
            "Epoch 336/500\n",
            "140/140 [==============================] - 0s 80us/sample - loss: 18.6996 - mean_squared_error: 18.6996\n",
            "Epoch 337/500\n",
            "140/140 [==============================] - 0s 86us/sample - loss: 18.7010 - mean_squared_error: 18.7010\n",
            "Epoch 338/500\n",
            "140/140 [==============================] - 0s 85us/sample - loss: 18.6910 - mean_squared_error: 18.6910\n",
            "Epoch 339/500\n",
            "140/140 [==============================] - 0s 73us/sample - loss: 18.6975 - mean_squared_error: 18.6975\n",
            "Epoch 340/500\n",
            "140/140 [==============================] - 0s 89us/sample - loss: 18.6907 - mean_squared_error: 18.6907\n",
            "Epoch 341/500\n",
            "140/140 [==============================] - 0s 111us/sample - loss: 18.7187 - mean_squared_error: 18.7187\n",
            "Epoch 342/500\n",
            "140/140 [==============================] - 0s 97us/sample - loss: 18.7186 - mean_squared_error: 18.7186\n",
            "Epoch 343/500\n",
            "140/140 [==============================] - 0s 84us/sample - loss: 18.7141 - mean_squared_error: 18.7141\n",
            "Epoch 344/500\n",
            "140/140 [==============================] - 0s 71us/sample - loss: 18.6996 - mean_squared_error: 18.6996\n",
            "Epoch 345/500\n",
            "140/140 [==============================] - 0s 83us/sample - loss: 18.6967 - mean_squared_error: 18.6967\n",
            "Epoch 346/500\n",
            "140/140 [==============================] - 0s 84us/sample - loss: 18.7013 - mean_squared_error: 18.7013\n",
            "Epoch 347/500\n",
            "140/140 [==============================] - 0s 86us/sample - loss: 18.7062 - mean_squared_error: 18.7062\n",
            "Epoch 348/500\n",
            "140/140 [==============================] - 0s 74us/sample - loss: 18.7042 - mean_squared_error: 18.7042\n",
            "Epoch 349/500\n",
            "140/140 [==============================] - 0s 93us/sample - loss: 18.7075 - mean_squared_error: 18.7076\n",
            "Epoch 350/500\n",
            "140/140 [==============================] - 0s 84us/sample - loss: 18.7077 - mean_squared_error: 18.7077\n",
            "Epoch 351/500\n",
            "140/140 [==============================] - 0s 83us/sample - loss: 18.6989 - mean_squared_error: 18.6989\n",
            "Epoch 352/500\n",
            "140/140 [==============================] - 0s 73us/sample - loss: 18.7074 - mean_squared_error: 18.7074\n",
            "Epoch 353/500\n",
            "140/140 [==============================] - 0s 77us/sample - loss: 18.7209 - mean_squared_error: 18.7209\n",
            "Epoch 354/500\n",
            "140/140 [==============================] - 0s 103us/sample - loss: 18.6921 - mean_squared_error: 18.6921\n",
            "Epoch 355/500\n",
            "140/140 [==============================] - 0s 101us/sample - loss: 18.7011 - mean_squared_error: 18.7011\n",
            "Epoch 356/500\n",
            "140/140 [==============================] - 0s 106us/sample - loss: 18.7137 - mean_squared_error: 18.7137\n",
            "Epoch 357/500\n",
            "140/140 [==============================] - 0s 94us/sample - loss: 18.7020 - mean_squared_error: 18.7020\n",
            "Epoch 358/500\n",
            "140/140 [==============================] - 0s 94us/sample - loss: 18.7021 - mean_squared_error: 18.7022\n",
            "Epoch 359/500\n",
            "140/140 [==============================] - 0s 86us/sample - loss: 18.7238 - mean_squared_error: 18.7238\n",
            "Epoch 360/500\n",
            "140/140 [==============================] - 0s 90us/sample - loss: 18.7070 - mean_squared_error: 18.7070\n",
            "Epoch 361/500\n",
            "140/140 [==============================] - 0s 101us/sample - loss: 18.7093 - mean_squared_error: 18.7093\n",
            "Epoch 362/500\n",
            "140/140 [==============================] - 0s 89us/sample - loss: 18.7270 - mean_squared_error: 18.7270\n",
            "Epoch 363/500\n",
            "140/140 [==============================] - 0s 89us/sample - loss: 18.7075 - mean_squared_error: 18.7075\n",
            "Epoch 364/500\n",
            "140/140 [==============================] - 0s 102us/sample - loss: 18.7086 - mean_squared_error: 18.7086\n",
            "Epoch 365/500\n",
            "140/140 [==============================] - 0s 79us/sample - loss: 18.6977 - mean_squared_error: 18.6977\n",
            "Epoch 366/500\n",
            "140/140 [==============================] - 0s 80us/sample - loss: 18.6998 - mean_squared_error: 18.6998\n",
            "Epoch 367/500\n",
            "140/140 [==============================] - 0s 84us/sample - loss: 18.6950 - mean_squared_error: 18.6950\n",
            "Epoch 368/500\n",
            "140/140 [==============================] - 0s 91us/sample - loss: 18.7148 - mean_squared_error: 18.7148\n",
            "Epoch 369/500\n",
            "140/140 [==============================] - 0s 105us/sample - loss: 18.6990 - mean_squared_error: 18.6990\n",
            "Epoch 370/500\n",
            "140/140 [==============================] - 0s 101us/sample - loss: 18.7133 - mean_squared_error: 18.7133\n",
            "Epoch 371/500\n",
            "140/140 [==============================] - 0s 104us/sample - loss: 18.7057 - mean_squared_error: 18.7057\n",
            "Epoch 372/500\n",
            "140/140 [==============================] - 0s 128us/sample - loss: 18.6977 - mean_squared_error: 18.6977\n",
            "Epoch 373/500\n",
            "140/140 [==============================] - 0s 101us/sample - loss: 18.7198 - mean_squared_error: 18.7198\n",
            "Epoch 374/500\n",
            "140/140 [==============================] - 0s 87us/sample - loss: 18.7084 - mean_squared_error: 18.7084\n",
            "Epoch 375/500\n",
            "140/140 [==============================] - 0s 99us/sample - loss: 18.6928 - mean_squared_error: 18.6928\n",
            "Epoch 376/500\n",
            "140/140 [==============================] - 0s 92us/sample - loss: 18.7044 - mean_squared_error: 18.7044\n",
            "Epoch 377/500\n",
            "140/140 [==============================] - 0s 83us/sample - loss: 18.7030 - mean_squared_error: 18.7030\n",
            "Epoch 378/500\n",
            "140/140 [==============================] - 0s 91us/sample - loss: 18.6966 - mean_squared_error: 18.6966\n",
            "Epoch 379/500\n",
            "140/140 [==============================] - 0s 84us/sample - loss: 18.7045 - mean_squared_error: 18.7045\n",
            "Epoch 380/500\n",
            "140/140 [==============================] - 0s 79us/sample - loss: 18.6998 - mean_squared_error: 18.6998\n",
            "Epoch 381/500\n",
            "140/140 [==============================] - 0s 95us/sample - loss: 18.7041 - mean_squared_error: 18.7041\n",
            "Epoch 382/500\n",
            "140/140 [==============================] - 0s 98us/sample - loss: 18.7075 - mean_squared_error: 18.7076\n",
            "Epoch 383/500\n",
            "140/140 [==============================] - 0s 72us/sample - loss: 18.6904 - mean_squared_error: 18.6904\n",
            "Epoch 384/500\n",
            "140/140 [==============================] - 0s 72us/sample - loss: 18.6985 - mean_squared_error: 18.6985\n",
            "Epoch 385/500\n",
            "140/140 [==============================] - 0s 96us/sample - loss: 18.6894 - mean_squared_error: 18.6894\n",
            "Epoch 386/500\n",
            "140/140 [==============================] - 0s 95us/sample - loss: 18.7042 - mean_squared_error: 18.7043\n",
            "Epoch 387/500\n",
            "140/140 [==============================] - 0s 72us/sample - loss: 18.6985 - mean_squared_error: 18.6985\n",
            "Epoch 388/500\n",
            "140/140 [==============================] - 0s 76us/sample - loss: 18.7446 - mean_squared_error: 18.7446\n",
            "Epoch 389/500\n",
            "140/140 [==============================] - 0s 70us/sample - loss: 18.7099 - mean_squared_error: 18.7099\n",
            "Epoch 390/500\n",
            "140/140 [==============================] - 0s 86us/sample - loss: 18.7018 - mean_squared_error: 18.7018\n",
            "Epoch 391/500\n",
            "140/140 [==============================] - 0s 96us/sample - loss: 18.6997 - mean_squared_error: 18.6997\n",
            "Epoch 392/500\n",
            "140/140 [==============================] - 0s 81us/sample - loss: 18.6957 - mean_squared_error: 18.6957\n",
            "Epoch 393/500\n",
            "140/140 [==============================] - 0s 78us/sample - loss: 18.7060 - mean_squared_error: 18.7060\n",
            "Epoch 394/500\n",
            "140/140 [==============================] - 0s 90us/sample - loss: 18.6898 - mean_squared_error: 18.6898\n",
            "Epoch 395/500\n",
            "140/140 [==============================] - 0s 79us/sample - loss: 18.7031 - mean_squared_error: 18.7031\n",
            "Epoch 396/500\n",
            "140/140 [==============================] - 0s 87us/sample - loss: 18.7125 - mean_squared_error: 18.7125\n",
            "Epoch 397/500\n",
            "140/140 [==============================] - 0s 78us/sample - loss: 18.7173 - mean_squared_error: 18.7173\n",
            "Epoch 398/500\n",
            "140/140 [==============================] - 0s 88us/sample - loss: 18.7047 - mean_squared_error: 18.7047\n",
            "Epoch 399/500\n",
            "140/140 [==============================] - 0s 97us/sample - loss: 18.7106 - mean_squared_error: 18.7106\n",
            "Epoch 400/500\n",
            "140/140 [==============================] - 0s 93us/sample - loss: 18.7051 - mean_squared_error: 18.7051\n",
            "Epoch 401/500\n",
            "140/140 [==============================] - 0s 95us/sample - loss: 18.7197 - mean_squared_error: 18.7197\n",
            "Epoch 402/500\n",
            "140/140 [==============================] - 0s 85us/sample - loss: 18.6982 - mean_squared_error: 18.6982\n",
            "Epoch 403/500\n",
            "140/140 [==============================] - 0s 75us/sample - loss: 18.7344 - mean_squared_error: 18.7344\n",
            "Epoch 404/500\n",
            "140/140 [==============================] - 0s 72us/sample - loss: 18.6997 - mean_squared_error: 18.6997\n",
            "Epoch 405/500\n",
            "140/140 [==============================] - 0s 79us/sample - loss: 18.7069 - mean_squared_error: 18.7069\n",
            "Epoch 406/500\n",
            "140/140 [==============================] - 0s 81us/sample - loss: 18.6970 - mean_squared_error: 18.6970\n",
            "Epoch 407/500\n",
            "140/140 [==============================] - 0s 80us/sample - loss: 18.6951 - mean_squared_error: 18.6951\n",
            "Epoch 408/500\n",
            "140/140 [==============================] - 0s 81us/sample - loss: 18.7127 - mean_squared_error: 18.7127\n",
            "Epoch 409/500\n",
            "140/140 [==============================] - 0s 100us/sample - loss: 18.6931 - mean_squared_error: 18.6931\n",
            "Epoch 410/500\n",
            "140/140 [==============================] - 0s 78us/sample - loss: 18.7498 - mean_squared_error: 18.7498\n",
            "Epoch 411/500\n",
            "140/140 [==============================] - 0s 87us/sample - loss: 18.7025 - mean_squared_error: 18.7025\n",
            "Epoch 412/500\n",
            "140/140 [==============================] - 0s 81us/sample - loss: 18.7017 - mean_squared_error: 18.7017\n",
            "Epoch 413/500\n",
            "140/140 [==============================] - 0s 96us/sample - loss: 18.7437 - mean_squared_error: 18.7437\n",
            "Epoch 414/500\n",
            "140/140 [==============================] - 0s 87us/sample - loss: 18.7273 - mean_squared_error: 18.7273\n",
            "Epoch 415/500\n",
            "140/140 [==============================] - 0s 82us/sample - loss: 18.7028 - mean_squared_error: 18.7028\n",
            "Epoch 416/500\n",
            "140/140 [==============================] - 0s 89us/sample - loss: 18.7039 - mean_squared_error: 18.7039\n",
            "Epoch 417/500\n",
            "140/140 [==============================] - 0s 107us/sample - loss: 18.7097 - mean_squared_error: 18.7097\n",
            "Epoch 418/500\n",
            "140/140 [==============================] - 0s 95us/sample - loss: 18.7054 - mean_squared_error: 18.7054\n",
            "Epoch 419/500\n",
            "140/140 [==============================] - 0s 75us/sample - loss: 18.7210 - mean_squared_error: 18.7210\n",
            "Epoch 420/500\n",
            "140/140 [==============================] - 0s 87us/sample - loss: 18.6950 - mean_squared_error: 18.6950\n",
            "Epoch 421/500\n",
            "140/140 [==============================] - 0s 74us/sample - loss: 18.7042 - mean_squared_error: 18.7042\n",
            "Epoch 422/500\n",
            "140/140 [==============================] - 0s 96us/sample - loss: 18.7231 - mean_squared_error: 18.7231\n",
            "Epoch 423/500\n",
            "140/140 [==============================] - 0s 87us/sample - loss: 18.7124 - mean_squared_error: 18.7124\n",
            "Epoch 424/500\n",
            "140/140 [==============================] - 0s 88us/sample - loss: 18.7024 - mean_squared_error: 18.7024\n",
            "Epoch 425/500\n",
            "140/140 [==============================] - 0s 87us/sample - loss: 18.7191 - mean_squared_error: 18.7191\n",
            "Epoch 426/500\n",
            "140/140 [==============================] - 0s 71us/sample - loss: 18.6891 - mean_squared_error: 18.6891\n",
            "Epoch 427/500\n",
            "140/140 [==============================] - 0s 80us/sample - loss: 18.7206 - mean_squared_error: 18.7206\n",
            "Epoch 428/500\n",
            "140/140 [==============================] - 0s 77us/sample - loss: 18.7189 - mean_squared_error: 18.7189\n",
            "Epoch 429/500\n",
            "140/140 [==============================] - 0s 75us/sample - loss: 18.6969 - mean_squared_error: 18.6969\n",
            "Epoch 430/500\n",
            "140/140 [==============================] - 0s 82us/sample - loss: 18.7183 - mean_squared_error: 18.7183\n",
            "Epoch 431/500\n",
            "140/140 [==============================] - 0s 80us/sample - loss: 18.7021 - mean_squared_error: 18.7021\n",
            "Epoch 432/500\n",
            "140/140 [==============================] - 0s 77us/sample - loss: 18.7171 - mean_squared_error: 18.7171\n",
            "Epoch 433/500\n",
            "140/140 [==============================] - 0s 79us/sample - loss: 18.7087 - mean_squared_error: 18.7087\n",
            "Epoch 434/500\n",
            "140/140 [==============================] - 0s 92us/sample - loss: 18.7057 - mean_squared_error: 18.7057\n",
            "Epoch 435/500\n",
            "140/140 [==============================] - 0s 84us/sample - loss: 18.6997 - mean_squared_error: 18.6997\n",
            "Epoch 436/500\n",
            "140/140 [==============================] - 0s 113us/sample - loss: 18.6945 - mean_squared_error: 18.6945\n",
            "Epoch 437/500\n",
            "140/140 [==============================] - 0s 78us/sample - loss: 18.6989 - mean_squared_error: 18.6989\n",
            "Epoch 438/500\n",
            "140/140 [==============================] - 0s 79us/sample - loss: 18.6974 - mean_squared_error: 18.6974\n",
            "Epoch 439/500\n",
            "140/140 [==============================] - 0s 73us/sample - loss: 18.7019 - mean_squared_error: 18.7019\n",
            "Epoch 440/500\n",
            "140/140 [==============================] - 0s 72us/sample - loss: 18.7057 - mean_squared_error: 18.7057\n",
            "Epoch 441/500\n",
            "140/140 [==============================] - 0s 74us/sample - loss: 18.7501 - mean_squared_error: 18.7501\n",
            "Epoch 442/500\n",
            "140/140 [==============================] - 0s 112us/sample - loss: 18.7541 - mean_squared_error: 18.7541\n",
            "Epoch 443/500\n",
            "140/140 [==============================] - 0s 90us/sample - loss: 18.7377 - mean_squared_error: 18.7377\n",
            "Epoch 444/500\n",
            "140/140 [==============================] - 0s 89us/sample - loss: 18.7072 - mean_squared_error: 18.7072\n",
            "Epoch 445/500\n",
            "140/140 [==============================] - 0s 93us/sample - loss: 18.6948 - mean_squared_error: 18.6948\n",
            "Epoch 446/500\n",
            "140/140 [==============================] - 0s 89us/sample - loss: 18.7008 - mean_squared_error: 18.7008\n",
            "Epoch 447/500\n",
            "140/140 [==============================] - 0s 94us/sample - loss: 18.7160 - mean_squared_error: 18.7160\n",
            "Epoch 448/500\n",
            "140/140 [==============================] - 0s 70us/sample - loss: 18.7057 - mean_squared_error: 18.7057\n",
            "Epoch 449/500\n",
            "140/140 [==============================] - 0s 87us/sample - loss: 18.7128 - mean_squared_error: 18.7128\n",
            "Epoch 450/500\n",
            "140/140 [==============================] - 0s 85us/sample - loss: 18.6944 - mean_squared_error: 18.6944\n",
            "Epoch 451/500\n",
            "140/140 [==============================] - 0s 75us/sample - loss: 18.4890 - mean_squared_error: 18.4890\n",
            "Epoch 452/500\n",
            "140/140 [==============================] - 0s 89us/sample - loss: 18.4753 - mean_squared_error: 18.4753\n",
            "Epoch 453/500\n",
            "140/140 [==============================] - 0s 88us/sample - loss: 18.6501 - mean_squared_error: 18.6501\n",
            "Epoch 454/500\n",
            "140/140 [==============================] - 0s 103us/sample - loss: 18.6447 - mean_squared_error: 18.6447\n",
            "Epoch 455/500\n",
            "140/140 [==============================] - 0s 78us/sample - loss: 18.6437 - mean_squared_error: 18.6437\n",
            "Epoch 456/500\n",
            "140/140 [==============================] - 0s 80us/sample - loss: 18.5561 - mean_squared_error: 18.5561\n",
            "Epoch 457/500\n",
            "140/140 [==============================] - 0s 94us/sample - loss: 18.9379 - mean_squared_error: 18.9379\n",
            "Epoch 458/500\n",
            "140/140 [==============================] - 0s 97us/sample - loss: 19.3607 - mean_squared_error: 19.3607\n",
            "Epoch 459/500\n",
            "140/140 [==============================] - 0s 69us/sample - loss: 19.0697 - mean_squared_error: 19.0697\n",
            "Epoch 460/500\n",
            "140/140 [==============================] - 0s 84us/sample - loss: 19.0455 - mean_squared_error: 19.0455\n",
            "Epoch 461/500\n",
            "140/140 [==============================] - 0s 78us/sample - loss: 19.5447 - mean_squared_error: 19.5447\n",
            "Epoch 462/500\n",
            "140/140 [==============================] - 0s 85us/sample - loss: 18.9519 - mean_squared_error: 18.9519\n",
            "Epoch 463/500\n",
            "140/140 [==============================] - 0s 114us/sample - loss: 18.2723 - mean_squared_error: 18.2723\n",
            "Epoch 464/500\n",
            "140/140 [==============================] - 0s 91us/sample - loss: 20.9862 - mean_squared_error: 20.9862\n",
            "Epoch 465/500\n",
            "140/140 [==============================] - 0s 83us/sample - loss: 20.6389 - mean_squared_error: 20.6389\n",
            "Epoch 466/500\n",
            "140/140 [==============================] - 0s 81us/sample - loss: 20.6115 - mean_squared_error: 20.6115\n",
            "Epoch 467/500\n",
            "140/140 [==============================] - 0s 88us/sample - loss: 20.5323 - mean_squared_error: 20.5323\n",
            "Epoch 468/500\n",
            "140/140 [==============================] - 0s 88us/sample - loss: 20.5040 - mean_squared_error: 20.5040\n",
            "Epoch 469/500\n",
            "140/140 [==============================] - 0s 79us/sample - loss: 20.4446 - mean_squared_error: 20.4446\n",
            "Epoch 470/500\n",
            "140/140 [==============================] - 0s 78us/sample - loss: 21.8390 - mean_squared_error: 21.8390\n",
            "Epoch 471/500\n",
            "140/140 [==============================] - 0s 84us/sample - loss: 22.4666 - mean_squared_error: 22.4666\n",
            "Epoch 472/500\n",
            "140/140 [==============================] - 0s 82us/sample - loss: 19.0065 - mean_squared_error: 19.0065\n",
            "Epoch 473/500\n",
            "140/140 [==============================] - 0s 77us/sample - loss: 18.9962 - mean_squared_error: 18.9962\n",
            "Epoch 474/500\n",
            "140/140 [==============================] - 0s 89us/sample - loss: 18.9206 - mean_squared_error: 18.9206\n",
            "Epoch 475/500\n",
            "140/140 [==============================] - 0s 84us/sample - loss: 18.8624 - mean_squared_error: 18.8624\n",
            "Epoch 476/500\n",
            "140/140 [==============================] - 0s 95us/sample - loss: 18.8027 - mean_squared_error: 18.8027\n",
            "Epoch 477/500\n",
            "140/140 [==============================] - 0s 83us/sample - loss: 18.8225 - mean_squared_error: 18.8225\n",
            "Epoch 478/500\n",
            "140/140 [==============================] - 0s 107us/sample - loss: 18.8087 - mean_squared_error: 18.8087\n",
            "Epoch 479/500\n",
            "140/140 [==============================] - 0s 90us/sample - loss: 18.7870 - mean_squared_error: 18.7870\n",
            "Epoch 480/500\n",
            "140/140 [==============================] - 0s 72us/sample - loss: 18.8209 - mean_squared_error: 18.8209\n",
            "Epoch 481/500\n",
            "140/140 [==============================] - 0s 67us/sample - loss: 18.7974 - mean_squared_error: 18.7974\n",
            "Epoch 482/500\n",
            "140/140 [==============================] - 0s 78us/sample - loss: 18.7893 - mean_squared_error: 18.7893\n",
            "Epoch 483/500\n",
            "140/140 [==============================] - 0s 80us/sample - loss: 18.7345 - mean_squared_error: 18.7345\n",
            "Epoch 484/500\n",
            "140/140 [==============================] - 0s 92us/sample - loss: 17.8319 - mean_squared_error: 17.8319\n",
            "Epoch 485/500\n",
            "140/140 [==============================] - 0s 100us/sample - loss: 19.0531 - mean_squared_error: 19.0531\n",
            "Epoch 486/500\n",
            "140/140 [==============================] - 0s 87us/sample - loss: 19.0484 - mean_squared_error: 19.0484\n",
            "Epoch 487/500\n",
            "140/140 [==============================] - 0s 82us/sample - loss: 19.0999 - mean_squared_error: 19.0999\n",
            "Epoch 488/500\n",
            "140/140 [==============================] - 0s 65us/sample - loss: 19.0240 - mean_squared_error: 19.0240\n",
            "Epoch 489/500\n",
            "140/140 [==============================] - 0s 70us/sample - loss: 19.0422 - mean_squared_error: 19.0422\n",
            "Epoch 490/500\n",
            "140/140 [==============================] - 0s 71us/sample - loss: 19.0767 - mean_squared_error: 19.0767\n",
            "Epoch 491/500\n",
            "140/140 [==============================] - 0s 69us/sample - loss: 19.0688 - mean_squared_error: 19.0688\n",
            "Epoch 492/500\n",
            "140/140 [==============================] - 0s 83us/sample - loss: 19.0441 - mean_squared_error: 19.0441\n",
            "Epoch 493/500\n",
            "140/140 [==============================] - 0s 80us/sample - loss: 19.0540 - mean_squared_error: 19.0540\n",
            "Epoch 494/500\n",
            "140/140 [==============================] - 0s 115us/sample - loss: 18.9800 - mean_squared_error: 18.9800\n",
            "Epoch 495/500\n",
            "140/140 [==============================] - 0s 99us/sample - loss: 18.5632 - mean_squared_error: 18.5632\n",
            "Epoch 496/500\n",
            "140/140 [==============================] - 0s 110us/sample - loss: 18.5880 - mean_squared_error: 18.5880\n",
            "Epoch 497/500\n",
            "140/140 [==============================] - 0s 101us/sample - loss: 18.5763 - mean_squared_error: 18.5763\n",
            "Epoch 498/500\n",
            "140/140 [==============================] - 0s 112us/sample - loss: 18.5752 - mean_squared_error: 18.5752\n",
            "Epoch 499/500\n",
            "140/140 [==============================] - 0s 94us/sample - loss: 18.5861 - mean_squared_error: 18.5861\n",
            "Epoch 500/500\n",
            "140/140 [==============================] - 0s 111us/sample - loss: 18.5674 - mean_squared_error: 18.5674\n"
          ],
          "name": "stdout"
        },
        {
          "output_type": "execute_result",
          "data": {
            "text/plain": [
              "<tensorflow.python.keras.callbacks.History at 0x7fe948fdfeb8>"
            ]
          },
          "metadata": {
            "tags": []
          },
          "execution_count": 45
        }
      ]
    },
    {
      "cell_type": "code",
      "metadata": {
        "id": "_B9TiRrRHq5W",
        "colab_type": "code",
        "colab": {}
      },
      "source": [
        "prediction = model.predict(X_test)"
      ],
      "execution_count": 0,
      "outputs": []
    },
    {
      "cell_type": "code",
      "metadata": {
        "id": "MhOvmczEJmLd",
        "colab_type": "code",
        "colab": {
          "base_uri": "https://localhost:8080/",
          "height": 1000
        },
        "outputId": "f0278b95-ad03-46c9-8717-3e6707bded09"
      },
      "source": [
        "prediction"
      ],
      "execution_count": 47,
      "outputs": [
        {
          "output_type": "execute_result",
          "data": {
            "text/plain": [
              "array([[15.493757 ],\n",
              "       [15.493757 ],\n",
              "       [15.493757 ],\n",
              "       [ 7.633299 ],\n",
              "       [15.493757 ],\n",
              "       [15.493112 ],\n",
              "       [15.493757 ],\n",
              "       [15.493757 ],\n",
              "       [15.493757 ],\n",
              "       [15.493757 ],\n",
              "       [15.493757 ],\n",
              "       [15.493757 ],\n",
              "       [15.493757 ],\n",
              "       [ 7.633299 ],\n",
              "       [15.493757 ],\n",
              "       [15.493757 ],\n",
              "       [ 7.633299 ],\n",
              "       [15.493757 ],\n",
              "       [15.493757 ],\n",
              "       [15.493757 ],\n",
              "       [15.493757 ],\n",
              "       [ 7.633299 ],\n",
              "       [15.369142 ],\n",
              "       [15.493757 ],\n",
              "       [15.493757 ],\n",
              "       [15.493757 ],\n",
              "       [15.493757 ],\n",
              "       [15.493757 ],\n",
              "       [15.493757 ],\n",
              "       [ 7.633299 ],\n",
              "       [15.493757 ],\n",
              "       [15.493757 ],\n",
              "       [15.493757 ],\n",
              "       [ 7.633299 ],\n",
              "       [15.493757 ],\n",
              "       [15.493757 ],\n",
              "       [15.493757 ],\n",
              "       [15.493757 ],\n",
              "       [15.493757 ],\n",
              "       [15.49375  ],\n",
              "       [15.493757 ],\n",
              "       [15.493757 ],\n",
              "       [ 7.6334834],\n",
              "       [15.493757 ],\n",
              "       [15.493757 ],\n",
              "       [15.493757 ],\n",
              "       [15.493757 ],\n",
              "       [15.493757 ],\n",
              "       [15.493757 ],\n",
              "       [15.493757 ],\n",
              "       [15.493757 ],\n",
              "       [15.493757 ],\n",
              "       [ 7.633299 ],\n",
              "       [ 7.633299 ],\n",
              "       [15.493757 ],\n",
              "       [15.493757 ],\n",
              "       [15.493757 ],\n",
              "       [15.493757 ],\n",
              "       [ 7.6333   ],\n",
              "       [15.493757 ]], dtype=float32)"
            ]
          },
          "metadata": {
            "tags": []
          },
          "execution_count": 47
        }
      ]
    },
    {
      "cell_type": "code",
      "metadata": {
        "id": "Bhs5HXCEJqlI",
        "colab_type": "code",
        "colab": {
          "base_uri": "https://localhost:8080/",
          "height": 1000
        },
        "outputId": "aa918031-4746-4346-f0bb-db6d1fe8a1ca"
      },
      "source": [
        "for predicted,actual in zip(prediction, y_test):\n",
        "  print(\"A\",actual,\"Pr\", predicted)"
      ],
      "execution_count": 48,
      "outputs": [
        {
          "output_type": "stream",
          "text": [
            "A [16.9] Pr [15.493757]\n",
            "A [22.4] Pr [15.493757]\n",
            "A [21.4] Pr [15.493757]\n",
            "A [7.3] Pr [7.633299]\n",
            "A [24.7] Pr [15.493757]\n",
            "A [12.6] Pr [15.493112]\n",
            "A [22.3] Pr [15.493757]\n",
            "A [8.4] Pr [15.493757]\n",
            "A [11.5] Pr [15.493757]\n",
            "A [14.9] Pr [15.493757]\n",
            "A [9.5] Pr [15.493757]\n",
            "A [8.7] Pr [15.493757]\n",
            "A [11.9] Pr [15.493757]\n",
            "A [5.3] Pr [7.633299]\n",
            "A [10.3] Pr [15.493757]\n",
            "A [11.7] Pr [15.493757]\n",
            "A [5.5] Pr [7.633299]\n",
            "A [16.6] Pr [15.493757]\n",
            "A [11.3] Pr [15.493757]\n",
            "A [18.9] Pr [15.493757]\n",
            "A [19.7] Pr [15.493757]\n",
            "A [12.5] Pr [7.633299]\n",
            "A [10.9] Pr [15.369142]\n",
            "A [22.2] Pr [15.493757]\n",
            "A [9.3] Pr [15.493757]\n",
            "A [8.1] Pr [15.493757]\n",
            "A [21.7] Pr [15.493757]\n",
            "A [13.4] Pr [15.493757]\n",
            "A [10.6] Pr [15.493757]\n",
            "A [5.7] Pr [7.633299]\n",
            "A [10.6] Pr [15.493757]\n",
            "A [11.3] Pr [15.493757]\n",
            "A [23.7] Pr [15.493757]\n",
            "A [8.7] Pr [7.633299]\n",
            "A [16.1] Pr [15.493757]\n",
            "A [20.7] Pr [15.493757]\n",
            "A [11.6] Pr [15.493757]\n",
            "A [20.8] Pr [15.493757]\n",
            "A [11.9] Pr [15.493757]\n",
            "A [6.9] Pr [15.49375]\n",
            "A [11.] Pr [15.493757]\n",
            "A [12.8] Pr [15.493757]\n",
            "A [10.1] Pr [7.6334834]\n",
            "A [9.7] Pr [15.493757]\n",
            "A [11.6] Pr [15.493757]\n",
            "A [7.6] Pr [15.493757]\n",
            "A [10.5] Pr [15.493757]\n",
            "A [14.6] Pr [15.493757]\n",
            "A [10.4] Pr [15.493757]\n",
            "A [12.] Pr [15.493757]\n",
            "A [14.6] Pr [15.493757]\n",
            "A [11.7] Pr [15.493757]\n",
            "A [7.2] Pr [7.633299]\n",
            "A [6.6] Pr [7.633299]\n",
            "A [9.4] Pr [15.493757]\n",
            "A [11.] Pr [15.493757]\n",
            "A [10.9] Pr [15.493757]\n",
            "A [25.4] Pr [15.493757]\n",
            "A [7.6] Pr [7.6333]\n",
            "A [11.7] Pr [15.493757]\n"
          ],
          "name": "stdout"
        }
      ]
    },
    {
      "cell_type": "code",
      "metadata": {
        "id": "_Q6M3cdfK7V0",
        "colab_type": "code",
        "colab": {}
      },
      "source": [
        "from sklearn.metrics import mean_squared_error"
      ],
      "execution_count": 0,
      "outputs": []
    },
    {
      "cell_type": "code",
      "metadata": {
        "id": "vWvbY6-9KfPF",
        "colab_type": "code",
        "colab": {
          "base_uri": "https://localhost:8080/",
          "height": 35
        },
        "outputId": "17aaf506-c867-41f5-b635-335255d6797a"
      },
      "source": [
        "mean_squared_error(y_test,prediction)"
      ],
      "execution_count": 50,
      "outputs": [
        {
          "output_type": "execute_result",
          "data": {
            "text/plain": [
              "23.68165319017866"
            ]
          },
          "metadata": {
            "tags": []
          },
          "execution_count": 50
        }
      ]
    },
    {
      "cell_type": "code",
      "metadata": {
        "id": "0pnF9HeWLbCn",
        "colab_type": "code",
        "colab": {
          "base_uri": "https://localhost:8080/",
          "height": 35
        },
        "outputId": "7c0b1589-a288-440f-ec4b-6621ad0eb622"
      },
      "source": [
        "mean_squared_error(y_train,model.predict(X_train))"
      ],
      "execution_count": 52,
      "outputs": [
        {
          "output_type": "execute_result",
          "data": {
            "text/plain": [
              "18.559715062588943"
            ]
          },
          "metadata": {
            "tags": []
          },
          "execution_count": 52
        }
      ]
    },
    {
      "cell_type": "code",
      "metadata": {
        "id": "g3IWDJr_L3Kr",
        "colab_type": "code",
        "colab": {}
      },
      "source": [
        ""
      ],
      "execution_count": 0,
      "outputs": []
    }
  ]
}